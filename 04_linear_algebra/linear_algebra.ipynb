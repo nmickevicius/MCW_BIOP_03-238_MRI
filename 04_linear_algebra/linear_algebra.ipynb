{
 "cells": [
  {
   "cell_type": "markdown",
   "id": "4b665e03",
   "metadata": {},
   "source": [
    "[![Open in Colab](https://colab.research.google.com/assets/colab-badge.svg)](https://colab.research.google.com/github/nmickevicius/MCW_BIOP_03-238_MRI/blob/main/04_linear_algebra/linear_algebra.ipynb)"
   ]
  },
  {
   "cell_type": "markdown",
   "id": "00b5e5ef",
   "metadata": {},
   "source": [
    "\n",
    "## 0) Notation & Quick Complex Refresh\n",
    "\n",
    "- Scalars: real $a$, complex $z = a + ib$; $i^2 = -1$.  \n",
    "- Conjugate: $z^* = a - ib$; magnitude $|z|=\\sqrt{a^2+b^2}$.  \n",
    "- Vectors $\\mathbf{x}\\in \\mathbb{C}^N$, matrices $A\\in\\mathbb{C}^{m\\times n}$.  \n",
    "- Conjugate transpose: $A^H = (A^*)^T$.  \n",
    "- In MRI, raw k-space data and many operators are **complex-valued**, so conjugation and phases matter.\n"
   ]
  },
  {
   "cell_type": "code",
   "execution_count": 3,
   "id": "3be7c8bd",
   "metadata": {},
   "outputs": [
    {
     "data": {
      "application/vnd.jupyter.widget-view+json": {
       "model_id": "e6845c468d8f40bc908d94fd842b2a22",
       "version_major": 2,
       "version_minor": 0
      },
      "text/plain": [
       "interactive(children=(FloatSlider(value=1.0, description='a', max=5.0, min=-5.0), FloatSlider(value=1.0, descr…"
      ]
     },
     "metadata": {},
     "output_type": "display_data"
    }
   ],
   "source": [
    "\n",
    "# Interactive: Complex number and its conjugate on the complex plane\n",
    "%matplotlib inline\n",
    "import matplotlib.pyplot as plt \n",
    "import numpy as np \n",
    "from ipywidgets import interact, IntSlider, FloatSlider\n",
    "from IPython.display import clear_output, HTML, display\n",
    "import os\n",
    "\n",
    "def plot_complex(a=1.0, b=1.0):\n",
    "    z = a + 1j*b\n",
    "    zc = np.conj(z)\n",
    "    fig = plt.figure(figsize=(5,5))\n",
    "    ax = plt.gca()\n",
    "    ax.axhline(0, lw=1)\n",
    "    ax.axvline(0, lw=1)\n",
    "    ax.scatter([z.real], [z.imag], s=100, label='z = a + ib')\n",
    "    ax.scatter([zc.real], [zc.imag], s=100, marker='x', label='conj(z) = a - ib')\n",
    "    ax.set_xlabel('Real')\n",
    "    ax.set_ylabel('Imag')\n",
    "    r = max(2, abs(a)+1, abs(b)+1)\n",
    "    ax.set_xlim(-r, r); ax.set_ylim(-r, r); ax.set_aspect('equal', 'box')\n",
    "    ax.legend(loc='upper right')\n",
    "    ax.set_title(f\"|z| = {np.abs(z):.3f}\")\n",
    "    plt.show()\n",
    "\n",
    "interact(plot_complex, a=FloatSlider(min=-5, max=5, step=0.1, value=1.0),\n",
    "                     b=FloatSlider(min=-5, max=5, step=0.1, value=1.0));\n"
   ]
  },
  {
   "cell_type": "markdown",
   "id": "cdebb23e",
   "metadata": {},
   "source": [
    "\n",
    "## 1) Vectors, Inner Products, and Norms — Notes\n",
    "\n",
    "- Inner product (complex): $\\langle \\mathbf{a},\\mathbf{b}\\rangle = \\mathbf{a}^H \\mathbf{b}$.  \n",
    "- Norm: $\\|\\mathbf{a}\\|_2 = \\sqrt{\\langle \\mathbf{a},\\mathbf{a}\\rangle}$.  \n",
    "- Orthogonality: $\\langle \\mathbf{a},\\mathbf{b}\\rangle = 0$.  \n"
   ]
  },
  {
   "cell_type": "markdown",
   "id": "2e8850a4",
   "metadata": {},
   "source": [
    "\n",
    "### 1) Worked Example (step-by-step)\n",
    "\n",
    "Let $\\mathbf{a}=\\begin{bmatrix}1+i\\\\ 2-i\\end{bmatrix}$, $\\mathbf{b}=\\begin{bmatrix}2-i\\\\ -i\\end{bmatrix}$.  \n",
    "1) $\\mathbf{a}^H=[\\,1-i\\;\\;2+i\\,]$.  \n",
    "2) $\\langle \\mathbf{a},\\mathbf{b}\\rangle = (1-i)(2-i) + (2+i)(-i) = (1-3i)+(1-2i)=2-5i$.  \n",
    "3) $\\|\\mathbf{a}\\|^2 = (1-i)(1+i)+(2+i)(2-i)=2+5=7\\Rightarrow \\|\\mathbf{a}\\|=\\sqrt{7}$.\n"
   ]
  },
  {
   "cell_type": "markdown",
   "id": "5c931ad7",
   "metadata": {},
   "source": [
    "## Matrix Multiplication & Rotation Matrices\n",
    "\n",
    "Consider the (m x n) matrix A and the (n x p) matrix B:\n",
    "$$\n",
    "\\mathbf{A} =\n",
    "\\begin{bmatrix}\n",
    "a_{11} & a_{12} & \\dots & a_{1n} \\\\\n",
    "a_{21} & a_{22} & \\dots & a_{2n} \\\\\n",
    "\\vdots & \\vdots & \\ddots & \\vdots \\\\\n",
    "a_{m1} & a_{m2} & \\dots & a_{mn} \\\\\n",
    "\\end{bmatrix}\n",
    "$$\n",
    "$$\n",
    "\\mathbf{B} =\n",
    "\\begin{bmatrix}\n",
    "b_{11} & b_{12} & \\dots & b_{1p} \\\\\n",
    "b_{21} & b_{22} & \\dots & b_{2p} \\\\\n",
    "\\vdots & \\vdots & \\ddots & \\vdots \\\\\n",
    "b_{n1} & b_{n2} & \\dots & b_{np} \\\\\n",
    "\\end{bmatrix}\n",
    "$$\n",
    "\n",
    "The multiplication of $\\mathbf{AB}$ will be a (m x p) matrix $\\mathbf{C}$ with the following formula for each entry\n",
    "\n",
    "$$\n",
    "c_{ij} = \\sum_{k=1}^n a_{ik}b_{kj}\n",
    "$$\n",
    "\n",
    "- **Dimensions** must match between columns of A and rows of B: if $A\\in\\mathbb{C}^{m\\times n}$ and $B\\in\\mathbb{C}^{n\\times p}$, then $AB\\in\\mathbb{C}^{m\\times p}$. \n",
    "- **Associativity:** $(AB)C = A(BC)$ (but in general $AB \\neq BA$).  \n",
    "\n",
    "\n",
    "## Rotation Matrices\n",
    "\n",
    "**Rotation matrices** are matrices used to rotate a vector while preserving its length. In imaging (including MRI geometry gradients & coordinate transforms), rotations re-orient coordinates without changing magnitudes.\n",
    "\n",
    "Common 3D rotations (right-handed, angles \\(\\alpha,\\beta,\\gamma\\) about \\(x,y,z\\), respectively):\n",
    "$$\n",
    "R_x(\\alpha) = \\begin{bmatrix}\n",
    "1 & 0 & 0\\\\\n",
    "0 & \\cos\\alpha & -\\sin\\alpha\\\\\n",
    "0 & \\sin\\alpha & \\cos\\alpha\n",
    "\\end{bmatrix},\\quad\n",
    "R_y(\\beta) = \\begin{bmatrix}\n",
    "\\cos\\beta & 0 & \\sin\\beta\\\\\n",
    "0 & 1 & 0\\\\\n",
    "-\\sin\\beta & 0 & \\cos\\beta\n",
    "\\end{bmatrix},\\quad\n",
    "R_z(\\gamma) = \\begin{bmatrix}\n",
    "\\cos\\gamma & -\\sin\\gamma & 0\\\\\n",
    "\\sin\\gamma & \\cos\\gamma & 0\\\\\n",
    "0 & 0 & 1\n",
    "\\end{bmatrix}.\n",
    "$$\n",
    "\n",
    "Composition (apply $R_x$ then $R_y$ then $R_z$ to a vector $\\mathbf{v}$):  \n",
    "$$\n",
    "\\mathbf{v}_{\\text{rot}} = R_z(\\gamma)\\,R_y(\\beta)\\,R_x(\\alpha)\\,\\mathbf{v}.\n",
    "$$"
   ]
  },
  {
   "cell_type": "markdown",
   "id": "76502d9b",
   "metadata": {},
   "source": [
    "### 1B) Worked Example (step-by-step, 2D rotation)\n",
    "\n",
    "Rotate $\\mathbf{v}=\\begin{bmatrix}1\\\\0\\end{bmatrix}$ by angle $\\theta$ in 2D.  \n",
    "Use $R(\\theta) = \\begin{bmatrix}\\cos\\theta & -\\sin\\theta\\\\ \\sin\\theta & \\cos\\theta\\end{bmatrix}$.\n",
    "\n",
    "1) Multiply:\n",
    "$$\n",
    "R(\\theta)\\mathbf{v} =\n",
    "\\begin{bmatrix}\\cos\\theta & -\\sin\\theta\\\\ \\sin\\theta & \\cos\\theta\\end{bmatrix}\n",
    "\\begin{bmatrix}1\\\\0\\end{bmatrix}\n",
    "= \\begin{bmatrix}\\cos\\theta \\\\ \\sin\\theta\\end{bmatrix}.\n",
    "$$"
   ]
  },
  {
   "cell_type": "code",
   "execution_count": 4,
   "id": "a470d71f",
   "metadata": {},
   "outputs": [
    {
     "data": {
      "application/vnd.jupyter.widget-view+json": {
       "model_id": "c941c7f8020c4b7bbc6417304e474f33",
       "version_major": 2,
       "version_minor": 0
      },
      "text/plain": [
       "interactive(children=(FloatSlider(value=0.0, description='θx', max=180.0, min=-180.0, step=1.0), FloatSlider(v…"
      ]
     },
     "metadata": {},
     "output_type": "display_data"
    }
   ],
   "source": [
    "# Interactive: Rotate a vector on the unit sphere in 3D and show its x–y \"shadow\" (projection)\n",
    "%matplotlib inline\n",
    "import matplotlib.pyplot as plt\n",
    "import numpy as np\n",
    "from ipywidgets import interact, FloatSlider\n",
    "from IPython.display import clear_output, HTML, display\n",
    "import os\n",
    "\n",
    "def Rx(a):\n",
    "    ca, sa = np.cos(a), np.sin(a)\n",
    "    return np.array([[1,0,0],[0,ca,-sa],[0,sa,ca]], dtype=float)\n",
    "\n",
    "def Ry(b):\n",
    "    cb, sb = np.cos(b), np.sin(b)\n",
    "    return np.array([[cb,0,sb],[0,1,0],[-sb,0,cb]], dtype=float)\n",
    "\n",
    "def Rz(c):\n",
    "    cc, sc = np.cos(c), np.sin(c)\n",
    "    return np.array([[cc,-sc,0],[sc,cc,0],[0,0,1]], dtype=float)\n",
    "\n",
    "def rot_demo_with_shadow(theta_x=0.0, theta_y=0.0, theta_z=0.0, v_theta=45.0, v_phi=30.0):\n",
    "    # Base unit vector from spherical angles v_theta (polar from +z) and v_phi (azimuth in x-y), degrees\n",
    "    th = np.deg2rad(v_theta)\n",
    "    ph = np.deg2rad(v_phi)\n",
    "    v0 = np.array([np.sin(th)*np.cos(ph), np.sin(th)*np.sin(ph), np.cos(th)], dtype=float)\n",
    "\n",
    "    # Rotation angles (degrees -> radians)\n",
    "    ax = np.deg2rad(theta_x)\n",
    "    ay = np.deg2rad(theta_y)\n",
    "    az = np.deg2rad(theta_z)\n",
    "\n",
    "    # Compose rotation: apply Rx, then Ry, then Rz\n",
    "    R = Rz(az) @ Ry(ay) @ Rx(ax)\n",
    "    v = R @ v0\n",
    "    v = v / (np.linalg.norm(v) + 1e-12)  # keep numerically unit length\n",
    "\n",
    "    # x–y plane projection (\"shadow\")\n",
    "    p = np.array([v[0], v[1], 0.0])\n",
    "\n",
    "    # Unit sphere wireframe\n",
    "    u = np.linspace(0, 2*np.pi, 40)\n",
    "    t = np.linspace(0, np.pi, 20)\n",
    "    xs = np.outer(np.cos(u), np.sin(t))\n",
    "    ys = np.outer(np.sin(u), np.sin(t))\n",
    "    zs = np.outer(np.ones_like(u), np.cos(t))\n",
    "\n",
    "    # x–y unit circle (intersection of sphere with plane z=0)\n",
    "    circle_u = np.linspace(0, 2*np.pi, 200)\n",
    "    circle_x = np.cos(circle_u)\n",
    "    circle_y = np.sin(circle_u)\n",
    "    circle_z = np.zeros_like(circle_u)\n",
    "\n",
    "    fig = plt.figure(figsize=(6,6))\n",
    "    ax3d = fig.add_subplot(111, projection='3d')\n",
    "\n",
    "    # Sphere grid\n",
    "    ax3d.plot_wireframe(xs, ys, zs, linewidth=0.3, alpha=0.5)\n",
    "\n",
    "    # Draw the x–y plane as a thin surface for visual context\n",
    "    plane_x = np.linspace(-1.2, 1.2, 2)\n",
    "    plane_y = np.linspace(-1.2, 1.2, 2)\n",
    "    PX, PY = np.meshgrid(plane_x, plane_y)\n",
    "    PZ = np.zeros_like(PX)\n",
    "    ax3d.plot_surface(PX, PY, PZ, alpha=0.08)\n",
    "\n",
    "    # Unit circle on x–y plane\n",
    "    ax3d.plot(circle_x, circle_y, circle_z, linewidth=1.0)\n",
    "\n",
    "    # Original and rotated vectors\n",
    "    ax3d.quiver(0,0,0, v0[0],v0[1],v0[2], length=1.0, normalize=False)\n",
    "    ax3d.quiver(0,0,0, v[0],v[1],v[2], length=1.0, normalize=False)\n",
    "\n",
    "    # Shadow vector on x–y plane\n",
    "    ax3d.quiver(0,0,0, p[0],p[1],p[2], length=1.0, normalize=False)\n",
    "\n",
    "    # Drop line from tip of rotated vector to its projection on the x–y plane\n",
    "    ax3d.plot([v[0], p[0]], [v[1], p[1]], [v[2], p[2]], linestyle='--', linewidth=1.0)\n",
    "\n",
    "    # Axes & labels\n",
    "    lim = 1.2\n",
    "    ax3d.set_xlim([-lim, lim]); ax3d.set_ylim([-lim, lim]); ax3d.set_zlim([-lim, lim])\n",
    "    ax3d.set_xlabel('x'); ax3d.set_ylabel('y'); ax3d.set_zlabel('z')\n",
    "    ax3d.set_title(\"3D Rotation with x–y Plane Projection (Shadow)\")\n",
    "    ax3d.view_init(elev=22, azim=35)\n",
    "    plt.show()\n",
    "\n",
    "interact(rot_demo_with_shadow,\n",
    "         theta_x=FloatSlider(min=-180,max=180,step=1,value=0, description='θx'),\n",
    "         theta_y=FloatSlider(min=-180,max=180,step=1,value=0, description='θy'),\n",
    "         theta_z=FloatSlider(min=-180,max=180,step=1,value=0, description='θz'),\n",
    "         v_theta=FloatSlider(min=0,max=180,step=1,value=45, description='vθ'),\n",
    "         v_phi=FloatSlider(min=-180,max=180,step=1,value=30, description='vφ'));\n"
   ]
  },
  {
   "cell_type": "markdown",
   "id": "0536ac2a",
   "metadata": {},
   "source": [
    "\n",
    "## 2) Linear Systems $A\\mathbf{x}=\\mathbf{b}$\n",
    "\n",
    "- Solve small systems by elimination or factorization.  \n",
    "- In MRI, linear encoding/reconstruction often reduces to solving such systems (per pixel/voxel or globally).\n"
   ]
  },
  {
   "cell_type": "markdown",
   "id": "80ccf41f",
   "metadata": {},
   "source": [
    "\n",
    "### 2) Worked Example (step-by-step)\n",
    "\n",
    "$$\n",
    "A=\\begin{bmatrix}3&1\\\\ 1&2\\end{bmatrix},\\ \n",
    "\\mathbf{b}=\\begin{bmatrix}9\\\\ 8\\end{bmatrix}\n",
    "\\Rightarrow \\mathbf{x}=\\begin{bmatrix}2\\\\3\\end{bmatrix}.\n",
    "$$\n",
    "\n",
    "Row2 $\\leftarrow$ Row2 $-\\frac{1}{3}$ Row1 leads to $\\frac{5}{3}x_2=5\\Rightarrow x_2=3$.  \n",
    "Back-substitute: $3x_1+3=9\\Rightarrow x_1=2$.\n"
   ]
  },
  {
   "cell_type": "code",
   "execution_count": 5,
   "id": "ac6b1f77",
   "metadata": {},
   "outputs": [
    {
     "data": {
      "application/vnd.jupyter.widget-view+json": {
       "model_id": "d15db4b9e60944adae597155c0f1723a",
       "version_major": 2,
       "version_minor": 0
      },
      "text/plain": [
       "interactive(children=(FloatSlider(value=3.0, description='a11', max=5.0, min=-5.0), FloatSlider(value=1.0, des…"
      ]
     },
     "metadata": {},
     "output_type": "display_data"
    }
   ],
   "source": [
    "\n",
    "# Interactive: 2x2 system as intersection of lines\n",
    "%matplotlib inline\n",
    "import matplotlib.pyplot as plt \n",
    "import numpy as np \n",
    "from ipywidgets import interact, IntSlider, FloatSlider\n",
    "from IPython.display import clear_output, HTML, display\n",
    "import os\n",
    "\n",
    "def solve_and_plot(a11=3.0, a12=1.0, a21=1.0, a22=2.0, b1=9.0, b2=8.0):\n",
    "    A = np.array([[a11,a12],[a21,a22]], dtype=float)\n",
    "    b = np.array([b1,b2], dtype=float)\n",
    "    x = None\n",
    "    if abs(np.linalg.det(A)) > 1e-9:\n",
    "        x = np.linalg.solve(A,b)\n",
    "\n",
    "    xx = np.linspace(-5,5,400)\n",
    "    # lines: a11*x + a12*y = b1 ; a21*x + a22*y = b2\n",
    "    y1 = (b1 - a11*xx)/a12 if abs(a12)>1e-9 else np.full_like(xx, np.nan)\n",
    "    y2 = (b2 - a21*xx)/a22 if abs(a22)>1e-9 else np.full_like(xx, np.nan)\n",
    "\n",
    "    plt.figure(figsize=(6,6))\n",
    "    plt.plot(xx, y1, label='Eqn 1')\n",
    "    plt.plot(xx, y2, label='Eqn 2')\n",
    "    if x is not None and np.isfinite(x).all():\n",
    "        plt.scatter([x[0]],[x[1]], s=80, label=f\"Solution ({x[0]:.2f},{x[1]:.2f})\")\n",
    "    plt.xlim(-5,5); plt.ylim(-5,5)\n",
    "    plt.axhline(0,color='k',lw=0.5); plt.axvline(0,color='k',lw=0.5)\n",
    "    plt.legend(); plt.title(\"Intersection = solution\")\n",
    "    plt.gca().set_aspect('equal','box')\n",
    "    plt.show()\n",
    "\n",
    "interact(solve_and_plot,\n",
    "         a11=FloatSlider(min=-5,max=5,step=0.1,value=3.0),\n",
    "         a12=FloatSlider(min=-5,max=5,step=0.1,value=1.0),\n",
    "         a21=FloatSlider(min=-5,max=5,step=0.1,value=1.0),\n",
    "         a22=FloatSlider(min=-5,max=5,step=0.1,value=2.0),\n",
    "         b1=FloatSlider(min=-10,max=10,step=0.1,value=9.0),\n",
    "         b2=FloatSlider(min=-10,max=10,step=0.1,value=8.0));\n"
   ]
  },
  {
   "cell_type": "markdown",
   "id": "10c1bdf7",
   "metadata": {},
   "source": [
    "\n",
    "## 3) Least Squares & Projections — Notes\n",
    "\n",
    "- Overdetermined $A\\mathbf{x}\\approx \\mathbf{b}$.  \n",
    "- Normal equations: $A^H A \\hat{\\mathbf{x}} = A^H \\mathbf{b}$.  \n",
    "- Solution: $(A^H A)^{-1}A^H\\mathbf{b}$\n"
   ]
  },
  {
   "cell_type": "markdown",
   "id": "23ca653d",
   "metadata": {},
   "source": [
    "\n",
    "### 3) Worked Example (Elimination)\n",
    "\n",
    "$$\n",
    "A=\\begin{bmatrix}1&0\\\\ 1&1\\\\ 0&1\\end{bmatrix},\\ \n",
    "\\mathbf{b}=\\begin{bmatrix}1\\\\2\\\\1\\end{bmatrix}\n",
    "\\Rightarrow \\hat{\\mathbf{x}}=\\begin{bmatrix}1\\\\1\\end{bmatrix}.\n",
    "$$\n",
    "\n",
    "Compute $A^TA=\\begin{bmatrix}2&1\\\\1&2\\end{bmatrix}$, $A^Tb=\\begin{bmatrix}3\\\\3\\end{bmatrix}$ and solve. \n",
    "\n",
    "2 $\\times$ Row1 - Row2:\n",
    "\n",
    "$(4 - 1)x_1 + (2 - 2)x_2 = (6-3)$\n",
    "\n",
    "$3 x_1 = 3 \\Rightarrow x_1 = 1$\n",
    "\n",
    "Back substitute (Row2):\n",
    "\n",
    "$1 + 2 x_2 = 3$\n",
    "\n",
    "$x_2 = 1$\n",
    "\n"
   ]
  },
  {
   "cell_type": "markdown",
   "id": "22c56fa2",
   "metadata": {},
   "source": [
    "### 3b) Matrix Inverse in Least Squares (step-by-step, 2×2 case)\n",
    "\n",
    "Sometimes it’s helpful to **see** the normal-equation solution written with a matrix inverse:\n",
    "$$\n",
    "\\hat{\\mathbf{x}} = (A^T A)^{-1} A^T \\mathbf{b}.\n",
    "$$\n",
    "> We usually **avoid** forming an inverse explicitly (for numerical stability), but by hand it’s instructive.\n",
    "\n",
    "For our example,\n",
    "$$\n",
    "A=\\begin{bmatrix}1&0\\\\ 1&1\\\\ 0&1\\end{bmatrix},\\quad \n",
    "A^T A=\\begin{bmatrix}2&1\\\\ 1&2\\end{bmatrix},\\quad \n",
    "A^T\\mathbf{b}=\\begin{bmatrix}3\\\\3\\end{bmatrix}.\n",
    "$$\n",
    "\n",
    "**Goal:** compute $(A^T A)^{-1}$ by hand and then $\\hat{\\mathbf{x}}=(A^T A)^{-1}A^T\\mathbf{b}$.\n",
    "\n",
    "#### Step 1 — Determinant\n",
    "For a $2\\times2$ matrix $\\begin{bmatrix}a&b\\\\ c&d\\end{bmatrix}$,\n",
    "$\\det = ad - bc$.\n",
    "Here, $a=d=2$, $b=c=1$, so\n",
    "$$\n",
    "\\det(A^T A) = 2\\cdot 2 - 1\\cdot 1 = 4 - 1 = 3.\n",
    "$$\n",
    "\n",
    "#### Step 2 — Adjugate (a.k.a. adjoint)\n",
    "$$\n",
    "\\operatorname{adj}\\!\\left(\\begin{bmatrix}a&b\\\\ c&d\\end{bmatrix}\\right) =\n",
    "\\begin{bmatrix}d&-\\,b\\\\ -\\,c&a\\end{bmatrix}.\n",
    "$$\n",
    "Thus,\n",
    "$$\n",
    "\\operatorname{adj}(A^T A) = \\begin{bmatrix}2&-1\\\\ -1&2\\end{bmatrix}.\n",
    "$$\n",
    "\n",
    "#### Step 3 — Inverse\n",
    "$$\n",
    "(A^T A)^{-1} = \\frac{1}{\\det(A^T A)}\\,\\operatorname{adj}(A^T A)\n",
    "= \\frac{1}{3}\\begin{bmatrix}2&-1\\\\ -1&2\\end{bmatrix}.\n",
    "$$\n",
    "\n",
    "#### Step 4 — Multiply by $A^T\\mathbf{b}$\n",
    "$$\n",
    "\\hat{\\mathbf{x}}=(A^T A)^{-1}A^T\\mathbf{b} \n",
    "= \\frac{1}{3}\\begin{bmatrix}2&-1\\\\ -1&2\\end{bmatrix}\\begin{bmatrix}3\\\\3\\end{bmatrix}\n",
    "= \\frac{1}{3}\\begin{bmatrix}6-3\\\\ -3+6\\end{bmatrix}\n",
    "= \\frac{1}{3}\\begin{bmatrix}3\\\\3\\end{bmatrix}\n",
    "= \\begin{bmatrix}1\\\\1\\end{bmatrix}.\n",
    "$$"
   ]
  },
  {
   "cell_type": "code",
   "execution_count": 6,
   "id": "81dc83cf",
   "metadata": {},
   "outputs": [
    {
     "data": {
      "application/vnd.jupyter.widget-view+json": {
       "model_id": "7b097d8b8d2540ac82fa59eae44f00fc",
       "version_major": 2,
       "version_minor": 0
      },
      "text/plain": [
       "interactive(children=(IntSlider(value=6, description='n', max=20, min=3), FloatSlider(value=0.3, description='…"
      ]
     },
     "metadata": {},
     "output_type": "display_data"
    }
   ],
   "source": [
    "\n",
    "# Interactive: Least squares line fit y = ax + b to noisy points (projection intuition)\n",
    "%matplotlib inline\n",
    "import matplotlib.pyplot as plt \n",
    "import numpy as np \n",
    "from ipywidgets import interact, IntSlider, FloatSlider\n",
    "from IPython.display import clear_output, HTML, display\n",
    "import os\n",
    "\n",
    "def lsq_demo(n=6, noise=0.3, true_a=1.0, true_b=0.0, seed=0):\n",
    "    rng = np.random.default_rng(int(seed))\n",
    "    x = np.linspace(-1,1,n)\n",
    "    y = true_a*x + true_b + noise*rng.standard_normal(n)\n",
    "    # A = [x, 1]; solve (A^T A) theta = A^T y\n",
    "    A = np.c_[x, np.ones_like(x)]\n",
    "    ATA = A.T @ A\n",
    "    ATy = A.T @ y\n",
    "    theta = np.linalg.solve(ATA, ATy)\n",
    "    a_hat, b_hat = theta\n",
    "\n",
    "    xx = np.linspace(-1.2,1.2,200)\n",
    "    yy = a_hat*xx + b_hat\n",
    "\n",
    "    plt.figure(figsize=(6,4))\n",
    "    plt.scatter(x,y,label='data')\n",
    "    plt.plot(xx,yy,label=f'LS fit: y={a_hat:.2f}x+{b_hat:.2f}')\n",
    "    plt.ylim(-3,3)\n",
    "    plt.title(\"Least Squares\")\n",
    "    plt.legend(); plt.show()\n",
    "\n",
    "interact(lsq_demo,\n",
    "         n=IntSlider(min=3,max=20,step=1,value=6),\n",
    "         noise=FloatSlider(min=0.0,max=1.0,step=0.05,value=0.3),\n",
    "         true_a=FloatSlider(min=-2,max=2,step=0.1,value=1.0),\n",
    "         true_b=FloatSlider(min=-1,max=1,step=0.1,value=0.0),\n",
    "         seed=IntSlider(min=0,max=999,step=1,value=0));\n"
   ]
  },
  {
   "cell_type": "markdown",
   "id": "e867099d",
   "metadata": {},
   "source": [
    "\n",
    "## 4) Fourier Transform as a Linear Operator — Notes\n",
    "\n",
    "- Discrete Fourier Transform (DFT): $X[k]=\\sum_{n=0}^{N-1} x[n]e^{-i2\\pi kn/N}$.  \n",
    "- Inverse: $x[n]=\\frac{1}{N}\\sum_{k=0}^{N-1} X[k]e^{i2\\pi kn/N}$.  \n",
    "- In MRI, the **DFT matrix** maps images \\(\\leftrightarrow\\) k-space.\n",
    "\n",
    "Construct the DFT matrix as follows:\n",
    "\n",
    "$$\n",
    "\\mathbf{F} = \n",
    "\\begin{bmatrix}\n",
    "e^{-i 2 \\pi \\cdot 0 \\cdot 0 /N} & e^{-i 2 \\pi \\cdot 0 \\cdot 1 /N} & \\dots & e^{-i 2 \\pi \\cdot 0 \\cdot (N-1) /N} \\\\\n",
    "e^{-i 2 \\pi \\cdot 1 \\cdot 0 /N} & e^{-i 2 \\pi \\cdot 1 \\cdot 1 /N} & \\dots & e^{-i 2 \\pi \\cdot 1 \\cdot (N-1) /N} \\\\\n",
    "\\vdots & \\vdots & \\ddots & \\vdots \\\\\n",
    "e^{-i 2 \\pi \\cdot (N-1) \\cdot 0 /N} & e^{-i 2 \\pi \\cdot (N-1) \\cdot 1 /N} & \\dots & e^{-i 2 \\pi \\cdot (N-1) \\cdot (N-1) /N} \n",
    "\\end{bmatrix}\n",
    "$$\n",
    "\n",
    "The DFT of a vector $\\mathbf{x}$ is then given by the matrix-vector product:\n",
    "$$\n",
    "\\mathbf{X} = \\mathbf{Fx}\n",
    "$$\n"
   ]
  },
  {
   "cell_type": "code",
   "execution_count": 7,
   "id": "c29ff330",
   "metadata": {},
   "outputs": [
    {
     "data": {
      "application/vnd.jupyter.widget-view+json": {
       "model_id": "15705eb3d1bc44549932b40029a7b55f",
       "version_major": 2,
       "version_minor": 0
      },
      "text/plain": [
       "interactive(children=(IntSlider(value=32, description='N', max=32, min=4), IntSlider(value=0, description='idx…"
      ]
     },
     "metadata": {},
     "output_type": "display_data"
    }
   ],
   "source": [
    "\n",
    "# Interactive: Build a length-N signal and inspect DFT magnitude/phase\n",
    "%matplotlib inline\n",
    "import matplotlib.pyplot as plt \n",
    "import numpy as np \n",
    "from ipywidgets import interact, IntSlider, FloatSlider\n",
    "from IPython.display import clear_output, HTML, display\n",
    "import os\n",
    "\n",
    "def dft_demo(N=8, idx1=0, val1=1.0, idx2=4, val2=1.0):\n",
    "    N = int(N)\n",
    "    x = np.zeros(N, dtype=complex)\n",
    "    idx1 = int(np.clip(idx1, 0, N-1))\n",
    "    idx2 = int(np.clip(idx2, 0, N-1))\n",
    "    x[idx1] = val1\n",
    "    x[idx2] = x[idx2] + val2\n",
    "    k = np.arange(N)\n",
    "    n = np.arange(N)[:,None]\n",
    "    W = np.exp(-1j*2*np.pi*n*k/N)\n",
    "    X = (W.T @ x).T  # DFT via matrix multiply\n",
    "    fig = plt.figure(figsize=(8,4))\n",
    "    plt.subplot(1,2,1); plt.stem(np.arange(N), np.real(x)); plt.title(\"Signal (Real)\"); plt.ylim(0, 2.1)\n",
    "    plt.subplot(1,2,2); plt.stem(np.arange(N), np.abs(X)); plt.title(\"|DFT|\"); plt.ylim(0, 4.1)\n",
    "    plt.tight_layout(); plt.show()\n",
    "\n",
    "interact(dft_demo,\n",
    "         N=IntSlider(min=4,max=32,step=1,value=32),\n",
    "         idx1=IntSlider(min=0,max=31,step=1,value=0),\n",
    "         val1=FloatSlider(min=0,max=2,step=0.1,value=1.5),\n",
    "         idx2=IntSlider(min=0,max=31,step=1,value=2),\n",
    "         val2=FloatSlider(min=0,max=2,step=0.1,value=1.0));\n"
   ]
  },
  {
   "cell_type": "markdown",
   "id": "e44ddc4e",
   "metadata": {},
   "source": [
    "\n",
    "## 6) Basic Regularization (Tikhonov/Ridge) \n",
    "\n",
    "## Skipped in lecture -- interesting, but not required learning \n",
    "\n",
    "Solve $\\min_{\\mathbf{x}} \\|A\\mathbf{x}-\\mathbf{b}\\|^2 + \\lambda \\|\\mathbf{x}\\|^2$  \n",
    "$\\Rightarrow (A^H A + \\lambda I)\\hat{\\mathbf{x}} = A^H \\mathbf{b}$.  \n",
    "Increasing $\\lambda$ stabilizes solutions with noise, but biases the solution vector toward zero.\n"
   ]
  },
  {
   "cell_type": "code",
   "execution_count": 8,
   "id": "2d1cc31d",
   "metadata": {},
   "outputs": [
    {
     "data": {
      "application/vnd.jupyter.widget-view+json": {
       "model_id": "2eeedc658cef4d35ae296e4e9e9fd31a",
       "version_major": 2,
       "version_minor": 0
      },
      "text/plain": [
       "interactive(children=(IntSlider(value=8, description='n', max=40, min=4), FloatSlider(value=0.4, description='…"
      ]
     },
     "metadata": {},
     "output_type": "display_data"
    }
   ],
   "source": [
    "\n",
    "# Interactive: Ridge regression path for y = ax + b\n",
    "%matplotlib inline\n",
    "import matplotlib.pyplot as plt \n",
    "import numpy as np \n",
    "from ipywidgets import interact, IntSlider, FloatSlider\n",
    "from IPython.display import clear_output, HTML, display\n",
    "import os\n",
    "\n",
    "def ridge_demo(n=8, noise=0.4, true_a=1.0, true_b=0.0, lam=0.5, seed=0):\n",
    "    rng = np.random.default_rng(int(seed))\n",
    "    x = np.linspace(-1,1,n)\n",
    "    y = true_a*x + true_b + noise*rng.standard_normal(n)\n",
    "    A = np.c_[x, np.ones_like(x)]\n",
    "    ATA = A.T @ A\n",
    "    ATy = A.T @ y\n",
    "    theta = np.linalg.solve(ATA + lam*np.eye(2), ATy)\n",
    "    a_hat, b_hat = theta\n",
    "\n",
    "    xx = np.linspace(-1.2,1.2,200)\n",
    "    yy = a_hat*xx + b_hat\n",
    "\n",
    "    plt.figure(figsize=(6,4))\n",
    "    plt.scatter(x,y,label='data')\n",
    "    plt.plot(xx,yy,label=f'Ridge fit (λ={lam:.2f})')\n",
    "    plt.title(\"Tikhonov Regularization\")\n",
    "    plt.legend(); plt.show()\n",
    "\n",
    "interact(ridge_demo,\n",
    "         n=IntSlider(min=4,max=40,step=1,value=8),\n",
    "         noise=FloatSlider(min=0.0,max=1.0,step=0.05,value=0.4),\n",
    "         true_a=FloatSlider(min=-2,max=2,step=0.1,value=1.0),\n",
    "         true_b=FloatSlider(min=-1,max=1,step=0.1,value=0.0),\n",
    "         lam=FloatSlider(min=0.0,max=5.0,step=0.05,value=0.5),\n",
    "         seed=IntSlider(min=0,max=999,step=1,value=0));\n"
   ]
  }
 ],
 "metadata": {
  "kernelspec": {
   "display_name": "venv",
   "language": "python",
   "name": "python3"
  },
  "language_info": {
   "codemirror_mode": {
    "name": "ipython",
    "version": 3
   },
   "file_extension": ".py",
   "mimetype": "text/x-python",
   "name": "python",
   "nbconvert_exporter": "python",
   "pygments_lexer": "ipython3",
   "version": "3.10.0"
  }
 },
 "nbformat": 4,
 "nbformat_minor": 5
}
